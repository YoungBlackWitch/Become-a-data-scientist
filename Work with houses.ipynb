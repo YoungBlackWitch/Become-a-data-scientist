{
 "cells": [
  {
   "cell_type": "markdown",
   "source": [
    "### Задание\n",
    "Собрать информацию о всех строящихся объектах на сайте \"наш.дом.рф\"\n",
    "\n",
    "Cохранить ее в pandas dataframe\n",
    "\n",
    "Cохранить pandas dataframe в excel\n",
    "\n",
    "Cохранить pandas dataframe в pickle\n",
    "\n",
    "Cохранить pandas dataframe в БД"
   ],
   "metadata": {
    "collapsed": false,
    "pycharm": {
     "name": "#%% md\n"
    }
   }
  },
  {
   "cell_type": "code",
   "execution_count": 84,
   "outputs": [],
   "source": [
    "import requests\n",
    "import pandas as pd\n",
    "import time\n",
    "import openpyxl"
   ],
   "metadata": {
    "collapsed": false,
    "pycharm": {
     "name": "#%%\n"
    }
   }
  },
  {
   "cell_type": "code",
   "execution_count": 85,
   "outputs": [],
   "source": [
    "objids = []\n",
    "offset_ = 0\n",
    "limit_ = 100\n",
    "\n",
    "while len(objids) < 2000:\n",
    "    url = f'https://xn--80az8a.xn--d1aqf.xn--p1ai/%D1%81%D0%B5%D1%80%D0%B2%D0%B8%D1%81%D1%8B/api/kn/object?offset={offset_}&limit={limit_}&sortField=devId.devShortCleanNm&sortType=asc&objStatus=0'\n",
    "    try:\n",
    "        res = requests.get(url)\n",
    "        objects_data = res.json()\n",
    "\n",
    "        objects_list = objects_data.get('data').get('list')\n",
    "        objids.extend([x.get('objId') for x in objects_list])\n",
    "    except:\n",
    "        time.sleep(5)\n",
    "        res = requests.get(url)\n",
    "        objects_data = res.json()\n",
    "\n",
    "        objects_list = objects_data.get('data').get('list')\n",
    "        objids.append([x.get('objId') for x in objects_list])\n",
    "\n",
    "    offset_ += 100"
   ],
   "metadata": {
    "collapsed": false,
    "pycharm": {
     "name": "#%%\n"
    }
   }
  },
  {
   "cell_type": "code",
   "execution_count": 86,
   "outputs": [
    {
     "data": {
      "text/plain": "[29679, 13383, 13397, 13399, 13398, 13391, 36912, 44076, 23494, 27476]"
     },
     "execution_count": 86,
     "metadata": {},
     "output_type": "execute_result"
    }
   ],
   "source": [
    "objids[:10]"
   ],
   "metadata": {
    "collapsed": false,
    "pycharm": {
     "name": "#%%\n"
    }
   }
  },
  {
   "cell_type": "code",
   "execution_count": 87,
   "outputs": [
    {
     "data": {
      "text/plain": "{'id': 29679,\n 'pdId': 124647,\n 'developer': {'devId': 7424,\n  'devShortCleanNm': '212-2',\n  'devShortNm': '212-2',\n  'devFullCleanNm': '212-2',\n  'problObjCnt': 0,\n  'buildObjCnt': 1,\n  'comissObjCnt': 0,\n  'regRegionDesc': 'Ростовская область',\n  'devPhoneNum': '+7(961)285-90-10',\n  'devSite': 'taganrogjsk.wixsite.com',\n  'devEmail': 'kirpol76@gmail.com',\n  'devInn': '6154572922',\n  'devOgrn': '1116154005923',\n  'devKpp': '615401001',\n  'devLegalAddr': 'Ростовская область, город Таганрог, улица Свободы/Трудовых резервов дом 25/9',\n  'devFactAddr': 'обл Ростовская город Таганрог улица Сергея Шило д. 212-2',\n  'lastRpdId': 126093,\n  'fundGuarantyFlg': 0,\n  'devOrgRegRegionCd': 61,\n  'devEmplMainFullNm': 'Снимщикова Ольга Викторовна',\n  'orgForm': {'id': 20,\n   'fullForm': 'Жилищный или жилищно-строительный кооператив',\n   'shortForm': 'ЖСК'},\n  'objGuarantyEscrowFlg': 0,\n  'govFundFlg': 0},\n 'region': 61,\n 'address': 'г Таганрог',\n 'objElemLivingCnt': 18,\n 'objReady100PercDt': '2020-03-31',\n 'wallMaterialShortDesc': 'Другое',\n 'objLkFinishTypeDesc': 'Под ключ',\n 'objLkFreePlanDesc': 'Есть',\n 'objElemParkingCnt': 0,\n 'objSquareLiving': 1519.0,\n 'rpdNum': '61-000818',\n 'rpdPdfLink': 'https://xn--80az8a.xn--d1aqf.xn--p1ai/api/ext/file/092af1ad-2b49-4150-8a92-293031e2f79a',\n 'rpdIssueDttm': '20-03-2019 18:41',\n 'objLkLatitude': '47.2238',\n 'objLkLongitude': '38.8513',\n 'objCompensFundFlg': 0,\n 'objProblemFlg': 0,\n 'objLkClassDesc': 'Комфорт',\n 'loadDttm': '24-08-2022 01:26',\n 'photoRenderDTO': [],\n 'objGuarantyEscrowFlg': 0,\n 'objectType': 'normal',\n 'residentialBuildings': 1,\n 'newBuildingId': 40800,\n 'objFlatCnt': 18,\n 'objFlatSq': '1519.0',\n 'objNonlivElemCnt': 0,\n 'objStatus': 0,\n 'isAvailableWantLiveHere': True,\n 'objInfrstrBicycleLaneFlg': 0,\n 'objInfrstrRampFlg': 0,\n 'objInfrstrCurbLoweringFlg': 0,\n 'objectTransportInfo': [],\n 'conclusion': False,\n 'objGreenHouseFlg': 0,\n 'objEnergyEffShortDesc': 'Не нормируется',\n 'infrastructureIndexValue': 7}"
     },
     "execution_count": 87,
     "metadata": {},
     "output_type": "execute_result"
    }
   ],
   "source": [
    "all_res = []\n",
    "for uid in objids:\n",
    "    url = f'https://xn--80az8a.xn--d1aqf.xn--p1ai/%D1%81%D0%B5%D1%80%D0%B2%D0%B8%D1%81%D1%8B/api/object/{uid}'\n",
    "    try:\n",
    "        res = requests.get(url)\n",
    "        if res.ok:\n",
    "            res = res.json()\n",
    "            all_res.append(res.get(\"data\"))\n",
    "    except Exception:\n",
    "        continue\n",
    "\n",
    "all_res[0]"
   ],
   "metadata": {
    "collapsed": false,
    "pycharm": {
     "name": "#%%\n"
    }
   }
  },
  {
   "cell_type": "code",
   "execution_count": 88,
   "outputs": [
    {
     "data": {
      "text/plain": "1995"
     },
     "execution_count": 88,
     "metadata": {},
     "output_type": "execute_result"
    }
   ],
   "source": [
    "len(all_res)"
   ],
   "metadata": {
    "collapsed": false,
    "pycharm": {
     "name": "#%%\n"
    }
   }
  },
  {
   "cell_type": "code",
   "execution_count": 89,
   "outputs": [],
   "source": [
    "houses = pd.DataFrame(data = pd.json_normalize(all_res))"
   ],
   "metadata": {
    "collapsed": false,
    "pycharm": {
     "name": "#%%\n"
    }
   }
  },
  {
   "cell_type": "code",
   "execution_count": 90,
   "outputs": [],
   "source": [
    "house_data = houses[[\n",
    "            \"region\",\n",
    "            \"floorMax\",\n",
    "            \"objElemLivingCnt\",\n",
    "            \"objReady100PercDt\",\n",
    "            \"objSquareLiving\",\n",
    "            \"objElemParkingCnt\",\n",
    "            \"objPriceAvg\"\n",
    "        ]]"
   ],
   "metadata": {
    "collapsed": false,
    "pycharm": {
     "name": "#%%\n"
    }
   }
  },
  {
   "cell_type": "code",
   "execution_count": 91,
   "outputs": [
    {
     "data": {
      "text/plain": "   region  floorMax  objElemLivingCnt objReady100PercDt  objSquareLiving  \\\n0      61       NaN                18        2020-03-31          1519.00   \n1      72      20.0                68        2022-12-31          6293.78   \n2      72      12.0                65        2024-12-31          6248.51   \n3      72       1.0                 0        2024-12-31             0.00   \n4      72      10.0                43        2024-12-31          4812.98   \n\n   objElemParkingCnt  objPriceAvg  \n0                  0          NaN  \n1                 31      53109.0  \n2                  0      45523.0  \n3                125      50768.0  \n4                  0      47886.0  ",
      "text/html": "<div>\n<style scoped>\n    .dataframe tbody tr th:only-of-type {\n        vertical-align: middle;\n    }\n\n    .dataframe tbody tr th {\n        vertical-align: top;\n    }\n\n    .dataframe thead th {\n        text-align: right;\n    }\n</style>\n<table border=\"1\" class=\"dataframe\">\n  <thead>\n    <tr style=\"text-align: right;\">\n      <th></th>\n      <th>region</th>\n      <th>floorMax</th>\n      <th>objElemLivingCnt</th>\n      <th>objReady100PercDt</th>\n      <th>objSquareLiving</th>\n      <th>objElemParkingCnt</th>\n      <th>objPriceAvg</th>\n    </tr>\n  </thead>\n  <tbody>\n    <tr>\n      <th>0</th>\n      <td>61</td>\n      <td>NaN</td>\n      <td>18</td>\n      <td>2020-03-31</td>\n      <td>1519.00</td>\n      <td>0</td>\n      <td>NaN</td>\n    </tr>\n    <tr>\n      <th>1</th>\n      <td>72</td>\n      <td>20.0</td>\n      <td>68</td>\n      <td>2022-12-31</td>\n      <td>6293.78</td>\n      <td>31</td>\n      <td>53109.0</td>\n    </tr>\n    <tr>\n      <th>2</th>\n      <td>72</td>\n      <td>12.0</td>\n      <td>65</td>\n      <td>2024-12-31</td>\n      <td>6248.51</td>\n      <td>0</td>\n      <td>45523.0</td>\n    </tr>\n    <tr>\n      <th>3</th>\n      <td>72</td>\n      <td>1.0</td>\n      <td>0</td>\n      <td>2024-12-31</td>\n      <td>0.00</td>\n      <td>125</td>\n      <td>50768.0</td>\n    </tr>\n    <tr>\n      <th>4</th>\n      <td>72</td>\n      <td>10.0</td>\n      <td>43</td>\n      <td>2024-12-31</td>\n      <td>4812.98</td>\n      <td>0</td>\n      <td>47886.0</td>\n    </tr>\n  </tbody>\n</table>\n</div>"
     },
     "execution_count": 91,
     "metadata": {},
     "output_type": "execute_result"
    }
   ],
   "source": [
    "house_data.head()"
   ],
   "metadata": {
    "collapsed": false,
    "pycharm": {
     "name": "#%%\n"
    }
   }
  },
  {
   "cell_type": "code",
   "execution_count": 92,
   "outputs": [],
   "source": [
    "writer = pd.ExcelWriter('house_data.xlsx')\n",
    "house_data.to_excel(writer)\n",
    "writer.save()"
   ],
   "metadata": {
    "collapsed": false,
    "pycharm": {
     "name": "#%%\n"
    }
   }
  },
  {
   "cell_type": "code",
   "execution_count": 93,
   "outputs": [],
   "source": [
    "house_data.to_pickle('house_data.pickle')"
   ],
   "metadata": {
    "collapsed": false,
    "pycharm": {
     "name": "#%%\n"
    }
   }
  },
  {
   "cell_type": "code",
   "execution_count": 94,
   "outputs": [],
   "source": [
    "import sqlite3\n",
    "con = sqlite3.connect(\"house_data.db\")"
   ],
   "metadata": {
    "collapsed": false,
    "pycharm": {
     "name": "#%%\n"
    }
   }
  },
  {
   "cell_type": "code",
   "execution_count": 95,
   "outputs": [
    {
     "ename": "ValueError",
     "evalue": "Table 'house_data' already exists.",
     "output_type": "error",
     "traceback": [
      "\u001B[1;31m---------------------------------------------------------------------------\u001B[0m",
      "\u001B[1;31mValueError\u001B[0m                                Traceback (most recent call last)",
      "Input \u001B[1;32mIn [95]\u001B[0m, in \u001B[0;36m<cell line: 1>\u001B[1;34m()\u001B[0m\n\u001B[1;32m----> 1\u001B[0m \u001B[43mhouse_data\u001B[49m\u001B[38;5;241;43m.\u001B[39;49m\u001B[43mto_sql\u001B[49m\u001B[43m(\u001B[49m\u001B[38;5;124;43m'\u001B[39;49m\u001B[38;5;124;43mhouse_data\u001B[39;49m\u001B[38;5;124;43m'\u001B[39;49m\u001B[43m,\u001B[49m\u001B[43m \u001B[49m\u001B[43mcon\u001B[49m\u001B[38;5;241;43m=\u001B[39;49m\u001B[43mcon\u001B[49m\u001B[43m)\u001B[49m\n",
      "File \u001B[1;32m~\\PycharmProjects\\LessonsOfDataScience\\venv\\lib\\site-packages\\pandas\\core\\generic.py:2951\u001B[0m, in \u001B[0;36mNDFrame.to_sql\u001B[1;34m(self, name, con, schema, if_exists, index, index_label, chunksize, dtype, method)\u001B[0m\n\u001B[0;32m   2794\u001B[0m \u001B[38;5;124;03m\"\"\"\u001B[39;00m\n\u001B[0;32m   2795\u001B[0m \u001B[38;5;124;03mWrite records stored in a DataFrame to a SQL database.\u001B[39;00m\n\u001B[0;32m   2796\u001B[0m \n\u001B[1;32m   (...)\u001B[0m\n\u001B[0;32m   2947\u001B[0m \u001B[38;5;124;03m[(1,), (None,), (2,)]\u001B[39;00m\n\u001B[0;32m   2948\u001B[0m \u001B[38;5;124;03m\"\"\"\u001B[39;00m  \u001B[38;5;66;03m# noqa:E501\u001B[39;00m\n\u001B[0;32m   2949\u001B[0m \u001B[38;5;28;01mfrom\u001B[39;00m \u001B[38;5;21;01mpandas\u001B[39;00m\u001B[38;5;21;01m.\u001B[39;00m\u001B[38;5;21;01mio\u001B[39;00m \u001B[38;5;28;01mimport\u001B[39;00m sql\n\u001B[1;32m-> 2951\u001B[0m \u001B[38;5;28;01mreturn\u001B[39;00m \u001B[43msql\u001B[49m\u001B[38;5;241;43m.\u001B[39;49m\u001B[43mto_sql\u001B[49m\u001B[43m(\u001B[49m\n\u001B[0;32m   2952\u001B[0m \u001B[43m    \u001B[49m\u001B[38;5;28;43mself\u001B[39;49m\u001B[43m,\u001B[49m\n\u001B[0;32m   2953\u001B[0m \u001B[43m    \u001B[49m\u001B[43mname\u001B[49m\u001B[43m,\u001B[49m\n\u001B[0;32m   2954\u001B[0m \u001B[43m    \u001B[49m\u001B[43mcon\u001B[49m\u001B[43m,\u001B[49m\n\u001B[0;32m   2955\u001B[0m \u001B[43m    \u001B[49m\u001B[43mschema\u001B[49m\u001B[38;5;241;43m=\u001B[39;49m\u001B[43mschema\u001B[49m\u001B[43m,\u001B[49m\n\u001B[0;32m   2956\u001B[0m \u001B[43m    \u001B[49m\u001B[43mif_exists\u001B[49m\u001B[38;5;241;43m=\u001B[39;49m\u001B[43mif_exists\u001B[49m\u001B[43m,\u001B[49m\n\u001B[0;32m   2957\u001B[0m \u001B[43m    \u001B[49m\u001B[43mindex\u001B[49m\u001B[38;5;241;43m=\u001B[39;49m\u001B[43mindex\u001B[49m\u001B[43m,\u001B[49m\n\u001B[0;32m   2958\u001B[0m \u001B[43m    \u001B[49m\u001B[43mindex_label\u001B[49m\u001B[38;5;241;43m=\u001B[39;49m\u001B[43mindex_label\u001B[49m\u001B[43m,\u001B[49m\n\u001B[0;32m   2959\u001B[0m \u001B[43m    \u001B[49m\u001B[43mchunksize\u001B[49m\u001B[38;5;241;43m=\u001B[39;49m\u001B[43mchunksize\u001B[49m\u001B[43m,\u001B[49m\n\u001B[0;32m   2960\u001B[0m \u001B[43m    \u001B[49m\u001B[43mdtype\u001B[49m\u001B[38;5;241;43m=\u001B[39;49m\u001B[43mdtype\u001B[49m\u001B[43m,\u001B[49m\n\u001B[0;32m   2961\u001B[0m \u001B[43m    \u001B[49m\u001B[43mmethod\u001B[49m\u001B[38;5;241;43m=\u001B[39;49m\u001B[43mmethod\u001B[49m\u001B[43m,\u001B[49m\n\u001B[0;32m   2962\u001B[0m \u001B[43m\u001B[49m\u001B[43m)\u001B[49m\n",
      "File \u001B[1;32m~\\PycharmProjects\\LessonsOfDataScience\\venv\\lib\\site-packages\\pandas\\io\\sql.py:697\u001B[0m, in \u001B[0;36mto_sql\u001B[1;34m(frame, name, con, schema, if_exists, index, index_label, chunksize, dtype, method, engine, **engine_kwargs)\u001B[0m\n\u001B[0;32m    692\u001B[0m \u001B[38;5;28;01melif\u001B[39;00m \u001B[38;5;129;01mnot\u001B[39;00m \u001B[38;5;28misinstance\u001B[39m(frame, DataFrame):\n\u001B[0;32m    693\u001B[0m     \u001B[38;5;28;01mraise\u001B[39;00m \u001B[38;5;167;01mNotImplementedError\u001B[39;00m(\n\u001B[0;32m    694\u001B[0m         \u001B[38;5;124m\"\u001B[39m\u001B[38;5;124m'\u001B[39m\u001B[38;5;124mframe\u001B[39m\u001B[38;5;124m'\u001B[39m\u001B[38;5;124m argument should be either a Series or a DataFrame\u001B[39m\u001B[38;5;124m\"\u001B[39m\n\u001B[0;32m    695\u001B[0m     )\n\u001B[1;32m--> 697\u001B[0m \u001B[38;5;28;01mreturn\u001B[39;00m pandas_sql\u001B[38;5;241m.\u001B[39mto_sql(\n\u001B[0;32m    698\u001B[0m     frame,\n\u001B[0;32m    699\u001B[0m     name,\n\u001B[0;32m    700\u001B[0m     if_exists\u001B[38;5;241m=\u001B[39mif_exists,\n\u001B[0;32m    701\u001B[0m     index\u001B[38;5;241m=\u001B[39mindex,\n\u001B[0;32m    702\u001B[0m     index_label\u001B[38;5;241m=\u001B[39mindex_label,\n\u001B[0;32m    703\u001B[0m     schema\u001B[38;5;241m=\u001B[39mschema,\n\u001B[0;32m    704\u001B[0m     chunksize\u001B[38;5;241m=\u001B[39mchunksize,\n\u001B[0;32m    705\u001B[0m     dtype\u001B[38;5;241m=\u001B[39mdtype,\n\u001B[0;32m    706\u001B[0m     method\u001B[38;5;241m=\u001B[39mmethod,\n\u001B[0;32m    707\u001B[0m     engine\u001B[38;5;241m=\u001B[39mengine,\n\u001B[0;32m    708\u001B[0m     \u001B[38;5;241m*\u001B[39m\u001B[38;5;241m*\u001B[39mengine_kwargs,\n\u001B[0;32m    709\u001B[0m )\n",
      "File \u001B[1;32m~\\PycharmProjects\\LessonsOfDataScience\\venv\\lib\\site-packages\\pandas\\io\\sql.py:2189\u001B[0m, in \u001B[0;36mSQLiteDatabase.to_sql\u001B[1;34m(self, frame, name, if_exists, index, index_label, schema, chunksize, dtype, method, **kwargs)\u001B[0m\n\u001B[0;32m   2178\u001B[0m             \u001B[38;5;28;01mraise\u001B[39;00m \u001B[38;5;167;01mValueError\u001B[39;00m(\u001B[38;5;124mf\u001B[39m\u001B[38;5;124m\"\u001B[39m\u001B[38;5;132;01m{\u001B[39;00mcol\u001B[38;5;132;01m}\u001B[39;00m\u001B[38;5;124m (\u001B[39m\u001B[38;5;132;01m{\u001B[39;00mmy_type\u001B[38;5;132;01m}\u001B[39;00m\u001B[38;5;124m) not a string\u001B[39m\u001B[38;5;124m\"\u001B[39m)\n\u001B[0;32m   2180\u001B[0m table \u001B[38;5;241m=\u001B[39m SQLiteTable(\n\u001B[0;32m   2181\u001B[0m     name,\n\u001B[0;32m   2182\u001B[0m     \u001B[38;5;28mself\u001B[39m,\n\u001B[1;32m   (...)\u001B[0m\n\u001B[0;32m   2187\u001B[0m     dtype\u001B[38;5;241m=\u001B[39mdtype,\n\u001B[0;32m   2188\u001B[0m )\n\u001B[1;32m-> 2189\u001B[0m \u001B[43mtable\u001B[49m\u001B[38;5;241;43m.\u001B[39;49m\u001B[43mcreate\u001B[49m\u001B[43m(\u001B[49m\u001B[43m)\u001B[49m\n\u001B[0;32m   2190\u001B[0m \u001B[38;5;28;01mreturn\u001B[39;00m table\u001B[38;5;241m.\u001B[39minsert(chunksize, method)\n",
      "File \u001B[1;32m~\\PycharmProjects\\LessonsOfDataScience\\venv\\lib\\site-packages\\pandas\\io\\sql.py:833\u001B[0m, in \u001B[0;36mSQLTable.create\u001B[1;34m(self)\u001B[0m\n\u001B[0;32m    831\u001B[0m \u001B[38;5;28;01mif\u001B[39;00m \u001B[38;5;28mself\u001B[39m\u001B[38;5;241m.\u001B[39mexists():\n\u001B[0;32m    832\u001B[0m     \u001B[38;5;28;01mif\u001B[39;00m \u001B[38;5;28mself\u001B[39m\u001B[38;5;241m.\u001B[39mif_exists \u001B[38;5;241m==\u001B[39m \u001B[38;5;124m\"\u001B[39m\u001B[38;5;124mfail\u001B[39m\u001B[38;5;124m\"\u001B[39m:\n\u001B[1;32m--> 833\u001B[0m         \u001B[38;5;28;01mraise\u001B[39;00m \u001B[38;5;167;01mValueError\u001B[39;00m(\u001B[38;5;124mf\u001B[39m\u001B[38;5;124m\"\u001B[39m\u001B[38;5;124mTable \u001B[39m\u001B[38;5;124m'\u001B[39m\u001B[38;5;132;01m{\u001B[39;00m\u001B[38;5;28mself\u001B[39m\u001B[38;5;241m.\u001B[39mname\u001B[38;5;132;01m}\u001B[39;00m\u001B[38;5;124m'\u001B[39m\u001B[38;5;124m already exists.\u001B[39m\u001B[38;5;124m\"\u001B[39m)\n\u001B[0;32m    834\u001B[0m     \u001B[38;5;28;01melif\u001B[39;00m \u001B[38;5;28mself\u001B[39m\u001B[38;5;241m.\u001B[39mif_exists \u001B[38;5;241m==\u001B[39m \u001B[38;5;124m\"\u001B[39m\u001B[38;5;124mreplace\u001B[39m\u001B[38;5;124m\"\u001B[39m:\n\u001B[0;32m    835\u001B[0m         \u001B[38;5;28mself\u001B[39m\u001B[38;5;241m.\u001B[39mpd_sql\u001B[38;5;241m.\u001B[39mdrop_table(\u001B[38;5;28mself\u001B[39m\u001B[38;5;241m.\u001B[39mname, \u001B[38;5;28mself\u001B[39m\u001B[38;5;241m.\u001B[39mschema)\n",
      "\u001B[1;31mValueError\u001B[0m: Table 'house_data' already exists."
     ]
    }
   ],
   "source": [
    "house_data.to_sql('house_data', con=con)"
   ],
   "metadata": {
    "collapsed": false,
    "pycharm": {
     "name": "#%%\n"
    }
   }
  },
  {
   "cell_type": "code",
   "execution_count": null,
   "outputs": [],
   "source": [
    "\n",
    "for detail_data in all_res[:10]:\n",
    "    n = 0\n",
    "    for photo_data in detail_data.get(\"photoRenderDTO\", []):\n",
    "        photo_url = photo_data.get(\"objRenderPhotoUrl\")\n",
    "\n",
    "        photo_response = requests.get(photo_url)\n",
    "\n",
    "        if photo_response.ok:\n",
    "\n",
    "            with open(f'image_{detail_data.get(\"id\")}_{n}.jpg', 'wb+') as picture:\n",
    "                picture.write(photo_response.content)\n",
    "            n += 1"
   ],
   "metadata": {
    "collapsed": false,
    "pycharm": {
     "name": "#%%\n"
    }
   }
  },
  {
   "cell_type": "code",
   "execution_count": null,
   "outputs": [],
   "source": [],
   "metadata": {
    "collapsed": false,
    "pycharm": {
     "name": "#%%\n"
    }
   }
  }
 ],
 "metadata": {
  "kernelspec": {
   "display_name": "Python 3",
   "language": "python",
   "name": "python3"
  },
  "language_info": {
   "codemirror_mode": {
    "name": "ipython",
    "version": 2
   },
   "file_extension": ".py",
   "mimetype": "text/x-python",
   "name": "python",
   "nbconvert_exporter": "python",
   "pygments_lexer": "ipython2",
   "version": "2.7.6"
  }
 },
 "nbformat": 4,
 "nbformat_minor": 0
}