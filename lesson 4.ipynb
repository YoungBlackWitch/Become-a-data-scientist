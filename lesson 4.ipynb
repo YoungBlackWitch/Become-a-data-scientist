{
 "cells": [
  {
   "cell_type": "markdown",
   "source": [
    "### 1. Создайте объект, который представляет собой книжную полку и продемонстрируйте ее работу\n",
    "\n",
    "Книжная полка хранит объекты класса Book\n",
    "\n",
    "У нее есть размер - количество книг, которое может в ней поместиться\n",
    "\n",
    "Есть методы, которые позволяют положить книгу на полку и взять книгу с полки\n",
    "\n",
    "Также есть метод, который показывает содержимое полки"
   ],
   "metadata": {
    "collapsed": false,
    "pycharm": {
     "name": "#%% md\n"
    }
   }
  },
  {
   "cell_type": "code",
   "execution_count": 96,
   "outputs": [],
   "source": [
    "class Book:\n",
    "\n",
    "    def __init__(self, author, title):\n",
    "        self.author = author\n",
    "        self.title = title\n",
    "        self.bookmark = None\n",
    "\n",
    "    def __str__(self):\n",
    "        return f\"{self.author}, {self.title}\"\n",
    "\n",
    "    def set_bookmark(self, page_number):\n",
    "        print(f'Закладка установлена на странице {page_number}')\n",
    "        self.bookmark = page_number\n",
    "\n",
    "    def get_bookmark(self):\n",
    "        print(f'Закладка на странице {self.bookmark}')\n",
    "        return self.bookmark"
   ],
   "metadata": {
    "collapsed": false,
    "pycharm": {
     "name": "#%%\n"
    }
   }
  },
  {
   "cell_type": "code",
   "execution_count": 110,
   "outputs": [],
   "source": [
    "class BookStand:\n",
    "\n",
    "    def __init__(self, n):\n",
    "        if isinstance(n, int):\n",
    "            self.size = n\n",
    "            self.count_book = 0\n",
    "            self.books = []\n",
    "        else:\n",
    "            raise ValueError(f\"n must be int, not {type(n).__name__}\")\n",
    "\n",
    "    def __repr__(self):\n",
    "        return f\"book shelf with size {self.size}\"\n",
    "\n",
    "    def put_book(self, book):\n",
    "        if self.count_book < self.size:\n",
    "            if book not in self.books:\n",
    "                self.count_book += 1\n",
    "                self.books.append(book)\n",
    "                print(f'{book.title} by {book.author} appended on the stand')\n",
    "            else:\n",
    "                print('Book on the stand')\n",
    "        else:\n",
    "            print('Book stand is full')\n",
    "\n",
    "    def get_book(self, book):\n",
    "        if self.count_book != 0:\n",
    "            if book in self.books:\n",
    "                self.books.remove(book)\n",
    "                self.count_book -= 1\n",
    "                print(f'You get {book.title} by {book.author}')\n",
    "            else:\n",
    "                print('No such book on the stand')\n",
    "        else:\n",
    "            print('No books on the stand')\n",
    "\n",
    "    def books_on_stand(self):\n",
    "        print(\"Currently on the shelf\")\n",
    "        for book in self.books:\n",
    "            print(book)\n"
   ],
   "metadata": {
    "collapsed": false,
    "pycharm": {
     "name": "#%%\n"
    }
   }
  },
  {
   "cell_type": "code",
   "execution_count": 111,
   "outputs": [
    {
     "data": {
      "text/plain": "book shelf with size 5"
     },
     "execution_count": 111,
     "metadata": {},
     "output_type": "execute_result"
    }
   ],
   "source": [
    "BookStand(5)"
   ],
   "metadata": {
    "collapsed": false,
    "pycharm": {
     "name": "#%%\n"
    }
   }
  },
  {
   "cell_type": "code",
   "execution_count": 112,
   "outputs": [],
   "source": [
    "book1 = Book(\"Марк Лутц\",\"Изучаем Python том 1\")\n",
    "book2 = Book(\"Марк Лутц\",\"Изучаем Python том 2\")\n",
    "book3 = Book(\"Лев Толстой\",\"Война и мир том 1\")\n",
    "book4 = Book(\"Лев Толстой\",\"Война и мир том 2\")\n",
    "book5 = Book(\"Лев Толстой\",\"Война и мир том 3\")\n",
    "book6 = Book(\"Лев Толстой\",\"Война и мир том 4\")"
   ],
   "metadata": {
    "collapsed": false,
    "pycharm": {
     "name": "#%%\n"
    }
   }
  },
  {
   "cell_type": "code",
   "execution_count": 113,
   "outputs": [],
   "source": [
    "stand = BookStand(5)"
   ],
   "metadata": {
    "collapsed": false,
    "pycharm": {
     "name": "#%%\n"
    }
   }
  },
  {
   "cell_type": "code",
   "execution_count": 114,
   "outputs": [
    {
     "name": "stdout",
     "output_type": "stream",
     "text": [
      "Изучаем Python том 1 by Марк Лутц appended on the stand\n"
     ]
    }
   ],
   "source": [
    "stand.put_book(book1)"
   ],
   "metadata": {
    "collapsed": false,
    "pycharm": {
     "name": "#%%\n"
    }
   }
  },
  {
   "cell_type": "code",
   "execution_count": 115,
   "outputs": [
    {
     "name": "stdout",
     "output_type": "stream",
     "text": [
      "Изучаем Python том 2 by Марк Лутц appended on the stand\n"
     ]
    }
   ],
   "source": [
    "stand.put_book(book2)"
   ],
   "metadata": {
    "collapsed": false,
    "pycharm": {
     "name": "#%%\n"
    }
   }
  },
  {
   "cell_type": "code",
   "execution_count": 116,
   "outputs": [
    {
     "name": "stdout",
     "output_type": "stream",
     "text": [
      "Война и мир том 1 by Лев Толстой appended on the stand\n"
     ]
    }
   ],
   "source": [
    "stand.put_book(book3)"
   ],
   "metadata": {
    "collapsed": false,
    "pycharm": {
     "name": "#%%\n"
    }
   }
  },
  {
   "cell_type": "code",
   "execution_count": 117,
   "outputs": [
    {
     "name": "stdout",
     "output_type": "stream",
     "text": [
      "Война и мир том 2 by Лев Толстой appended on the stand\n"
     ]
    }
   ],
   "source": [
    "stand.put_book(book4)"
   ],
   "metadata": {
    "collapsed": false,
    "pycharm": {
     "name": "#%%\n"
    }
   }
  },
  {
   "cell_type": "code",
   "execution_count": 118,
   "outputs": [
    {
     "name": "stdout",
     "output_type": "stream",
     "text": [
      "Война и мир том 3 by Лев Толстой appended on the stand\n"
     ]
    }
   ],
   "source": [
    "stand.put_book(book5)"
   ],
   "metadata": {
    "collapsed": false,
    "pycharm": {
     "name": "#%%\n"
    }
   }
  },
  {
   "cell_type": "code",
   "execution_count": 119,
   "outputs": [
    {
     "name": "stdout",
     "output_type": "stream",
     "text": [
      "Book stand is full\n"
     ]
    }
   ],
   "source": [
    "stand.put_book(book6)"
   ],
   "metadata": {
    "collapsed": false,
    "pycharm": {
     "name": "#%%\n"
    }
   }
  },
  {
   "cell_type": "code",
   "execution_count": 120,
   "outputs": [
    {
     "name": "stdout",
     "output_type": "stream",
     "text": [
      "You get Изучаем Python том 2 by Марк Лутц\n"
     ]
    }
   ],
   "source": [
    "stand.get_book(book2)"
   ],
   "metadata": {
    "collapsed": false,
    "pycharm": {
     "name": "#%%\n"
    }
   }
  },
  {
   "cell_type": "code",
   "execution_count": 121,
   "outputs": [
    {
     "name": "stdout",
     "output_type": "stream",
     "text": [
      "Война и мир том 4 by Лев Толстой appended on the stand\n"
     ]
    }
   ],
   "source": [
    "stand.put_book(book6)"
   ],
   "metadata": {
    "collapsed": false,
    "pycharm": {
     "name": "#%%\n"
    }
   }
  },
  {
   "cell_type": "code",
   "execution_count": 122,
   "outputs": [
    {
     "name": "stdout",
     "output_type": "stream",
     "text": [
      "Currently on the shelf\n",
      "Марк Лутц, Изучаем Python том 1\n",
      "Лев Толстой, Война и мир том 1\n",
      "Лев Толстой, Война и мир том 2\n",
      "Лев Толстой, Война и мир том 3\n",
      "Лев Толстой, Война и мир том 4\n"
     ]
    }
   ],
   "source": [
    "stand.books_on_stand()"
   ],
   "metadata": {
    "collapsed": false,
    "pycharm": {
     "name": "#%%\n"
    }
   }
  },
  {
   "cell_type": "code",
   "execution_count": null,
   "outputs": [],
   "source": [],
   "metadata": {
    "collapsed": false,
    "pycharm": {
     "name": "#%%\n"
    }
   }
  }
 ],
 "metadata": {
  "kernelspec": {
   "display_name": "Python 3",
   "language": "python",
   "name": "python3"
  },
  "language_info": {
   "codemirror_mode": {
    "name": "ipython",
    "version": 2
   },
   "file_extension": ".py",
   "mimetype": "text/x-python",
   "name": "python",
   "nbconvert_exporter": "python",
   "pygments_lexer": "ipython2",
   "version": "2.7.6"
  }
 },
 "nbformat": 4,
 "nbformat_minor": 0
}