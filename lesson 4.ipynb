{
 "cells": [
  {
   "cell_type": "markdown",
   "source": [
    "## 1. Создайте объект, который представляет собой книжную полку и продемонстрируйте ее работу\n",
    "\n",
    "Книжная полка хранит объекты класса Book\n",
    "\n",
    "У нее есть размер - количество книг, которое может в ней поместиться\n",
    "\n",
    "Есть методы, которые позволяют положить книгу на полку и взять книгу с полки\n",
    "\n",
    "Также есть метод, который показывает содержимое полки"
   ],
   "metadata": {
    "collapsed": false,
    "pycharm": {
     "name": "#%% md\n"
    }
   }
  },
  {
   "cell_type": "code",
   "execution_count": 193,
   "outputs": [],
   "source": [
    "class Book:\n",
    "\n",
    "    def __init__(self, author, title):\n",
    "        self.author = author\n",
    "        self.title = title\n",
    "        self.bookmark = None\n",
    "\n",
    "    def __str__(self):\n",
    "        return f\"{self.author}, {self.title}\"\n",
    "\n",
    "    def set_bookmark(self, page_number):\n",
    "        print(f'Закладка установлена на странице {page_number}')\n",
    "        self.bookmark = page_number\n",
    "\n",
    "    def __eq__(self, other):\n",
    "        return self.title == other.title and self.author == self.author\n",
    "\n",
    "    def get_bookmark(self):\n",
    "        print(f'Закладка на странице {self.bookmark}')\n",
    "        return self.bookmark"
   ],
   "metadata": {
    "collapsed": false,
    "pycharm": {
     "name": "#%%\n"
    }
   }
  },
  {
   "cell_type": "code",
   "execution_count": 194,
   "outputs": [],
   "source": [
    "class BookStand:\n",
    "\n",
    "    def __init__(self, n):\n",
    "        if isinstance(n, int):\n",
    "            self.size = n\n",
    "            self.books = []\n",
    "        else:\n",
    "            raise ValueError(f\"n must be int, not {type(n).__name__}\")\n",
    "\n",
    "    def __repr__(self):\n",
    "        return f\"book shelf with size {self.size}\"\n",
    "\n",
    "    def put_book(self, book):\n",
    "        if len(self.books) < self.size:\n",
    "            if book not in self.books:\n",
    "                self.books.append(book)\n",
    "                print(f'{book.title} by {book.author} appended on the stand')\n",
    "            else:\n",
    "                print('Book on the stand')\n",
    "        else:\n",
    "            print('Book stand is full')\n",
    "\n",
    "    def get_book(self, book):\n",
    "        if len(self.books) != 0:\n",
    "            if book in self.books:\n",
    "                self.books.remove(book)\n",
    "                print(f'You get {book.title} by {book.author}')\n",
    "            else:\n",
    "                print('No such book on the stand')\n",
    "        else:\n",
    "            print('No books on the stand')\n",
    "\n",
    "    def books_on_stand(self):\n",
    "        print(\"Currently on the shelf\")\n",
    "        for book in self.books:\n",
    "            print(book)\n"
   ],
   "metadata": {
    "collapsed": false,
    "pycharm": {
     "name": "#%%\n"
    }
   }
  },
  {
   "cell_type": "code",
   "execution_count": 195,
   "outputs": [],
   "source": [
    "book1 = Book(\"Марк Лутц\",\"Изучаем Python том 1\")\n",
    "book2 = Book(\"Марк Лутц\",\"Изучаем Python том 2\")\n",
    "book3 = Book(\"Лев Толстой\",\"Война и мир том 1\")\n",
    "book4 = Book(\"Лев Толстой\",\"Война и мир том 2\")\n",
    "book5 = Book(\"Лев Толстой\",\"Война и мир том 3\")\n",
    "book6 = Book(\"Лев Толстой\",\"Война и мир том 3\")"
   ],
   "metadata": {
    "collapsed": false,
    "pycharm": {
     "name": "#%%\n"
    }
   }
  },
  {
   "cell_type": "code",
   "execution_count": 197,
   "outputs": [
    {
     "data": {
      "text/plain": "False"
     },
     "execution_count": 197,
     "metadata": {},
     "output_type": "execute_result"
    }
   ],
   "source": [
    "book4 == book6"
   ],
   "metadata": {
    "collapsed": false,
    "pycharm": {
     "name": "#%%\n"
    }
   }
  },
  {
   "cell_type": "code",
   "execution_count": 184,
   "outputs": [],
   "source": [
    "stand = BookStand(6)"
   ],
   "metadata": {
    "collapsed": false,
    "pycharm": {
     "name": "#%%\n"
    }
   }
  },
  {
   "cell_type": "code",
   "execution_count": 185,
   "outputs": [
    {
     "name": "stdout",
     "output_type": "stream",
     "text": [
      "Изучаем Python том 1 by Марк Лутц appended on the stand\n"
     ]
    }
   ],
   "source": [
    "stand.put_book(book1)"
   ],
   "metadata": {
    "collapsed": false,
    "pycharm": {
     "name": "#%%\n"
    }
   }
  },
  {
   "cell_type": "code",
   "execution_count": 186,
   "outputs": [
    {
     "name": "stdout",
     "output_type": "stream",
     "text": [
      "Изучаем Python том 2 by Марк Лутц appended on the stand\n"
     ]
    }
   ],
   "source": [
    "stand.put_book(book2)"
   ],
   "metadata": {
    "collapsed": false,
    "pycharm": {
     "name": "#%%\n"
    }
   }
  },
  {
   "cell_type": "code",
   "execution_count": 187,
   "outputs": [
    {
     "name": "stdout",
     "output_type": "stream",
     "text": [
      "Война и мир том 1 by Лев Толстой appended on the stand\n"
     ]
    }
   ],
   "source": [
    "stand.put_book(book3)"
   ],
   "metadata": {
    "collapsed": false,
    "pycharm": {
     "name": "#%%\n"
    }
   }
  },
  {
   "cell_type": "code",
   "execution_count": 188,
   "outputs": [
    {
     "name": "stdout",
     "output_type": "stream",
     "text": [
      "Война и мир том 2 by Лев Толстой appended on the stand\n"
     ]
    }
   ],
   "source": [
    "stand.put_book(book4)"
   ],
   "metadata": {
    "collapsed": false,
    "pycharm": {
     "name": "#%%\n"
    }
   }
  },
  {
   "cell_type": "code",
   "execution_count": 189,
   "outputs": [
    {
     "name": "stdout",
     "output_type": "stream",
     "text": [
      "Война и мир том 3 by Лев Толстой appended on the stand\n"
     ]
    }
   ],
   "source": [
    "stand.put_book(book5)"
   ],
   "metadata": {
    "collapsed": false,
    "pycharm": {
     "name": "#%%\n"
    }
   }
  },
  {
   "cell_type": "code",
   "execution_count": 190,
   "outputs": [
    {
     "name": "stdout",
     "output_type": "stream",
     "text": [
      "Война и мир том 3 by Лев Толстой appended on the stand\n"
     ]
    }
   ],
   "source": [
    "stand.put_book(book6)"
   ],
   "metadata": {
    "collapsed": false,
    "pycharm": {
     "name": "#%%\n"
    }
   }
  },
  {
   "cell_type": "code",
   "execution_count": 148,
   "outputs": [
    {
     "name": "stdout",
     "output_type": "stream",
     "text": [
      "EQ\n",
      "EQ\n",
      "EQ\n",
      "EQ\n",
      "You get Изучаем Python том 2 by Марк Лутц\n"
     ]
    }
   ],
   "source": [
    "stand.get_book(book2)"
   ],
   "metadata": {
    "collapsed": false,
    "pycharm": {
     "name": "#%%\n"
    }
   }
  },
  {
   "cell_type": "code",
   "execution_count": 149,
   "outputs": [
    {
     "name": "stdout",
     "output_type": "stream",
     "text": [
      "EQ\n",
      "EQ\n",
      "EQ\n",
      "EQ\n",
      "EQ\n",
      "EQ\n",
      "EQ\n",
      "EQ\n",
      "Война и мир том 4 by Лев Толстой appended on the stand\n"
     ]
    }
   ],
   "source": [
    "stand.put_book(book6)"
   ],
   "metadata": {
    "collapsed": false,
    "pycharm": {
     "name": "#%%\n"
    }
   }
  },
  {
   "cell_type": "code",
   "execution_count": 150,
   "outputs": [
    {
     "name": "stdout",
     "output_type": "stream",
     "text": [
      "Currently on the shelf\n",
      "Марк Лутц, Изучаем Python том 1\n",
      "Лев Толстой, Война и мир том 1\n",
      "Лев Толстой, Война и мир том 2\n",
      "Лев Толстой, Война и мир том 3\n",
      "Лев Толстой, Война и мир том 4\n"
     ]
    }
   ],
   "source": [
    "stand.books_on_stand()"
   ],
   "metadata": {
    "collapsed": false,
    "pycharm": {
     "name": "#%%\n"
    }
   }
  },
  {
   "cell_type": "markdown",
   "source": [
    "## 2. Спортивное задание\n",
    "### Создайте класс Атлет\n",
    "\n",
    "У атлета есть имя и уровень крутости от 1 до 10\n",
    "атлет должен уметь бегать, в зависимости от уровня он может преодолевать дистанцию быстрее\n",
    "### Создайте класс Команда\n",
    "\n",
    "У команды есть название и участники - атлеты\n",
    "### Создайте класс Cоревнование\n",
    "\n",
    "Соревнование позволяет запустить эстафету\n",
    "Замерять общее бега время для всей команды\n",
    "Выводить результаты по командам в виде таблицы или графика\n",
    "Создайте n команд, в которых у атлетов разные/случайные уровни крутости, и проведите эстафету"
   ],
   "metadata": {
    "collapsed": false,
    "pycharm": {
     "name": "#%% md\n"
    }
   }
  },
  {
   "cell_type": "code",
   "execution_count": 1,
   "outputs": [],
   "source": [
    "import pandas as pd\n",
    "import numpy as np\n",
    "import matplotlib.pyplot as plt"
   ],
   "metadata": {
    "collapsed": false,
    "pycharm": {
     "name": "#%%\n"
    }
   }
  },
  {
   "cell_type": "code",
   "execution_count": 2,
   "outputs": [],
   "source": [
    "class Athletes:\n",
    "\n",
    "    def __init__(self, name, level = 1):\n",
    "        self.name = name\n",
    "        self.level = level\n",
    "        print(self.name,',',self.level)"
   ],
   "metadata": {
    "collapsed": false,
    "pycharm": {
     "name": "#%%\n"
    }
   }
  },
  {
   "cell_type": "code",
   "execution_count": 61,
   "outputs": [],
   "source": [
    "class Team:\n",
    "\n",
    "    def __init__(self, name):\n",
    "        self.name = name\n",
    "        self.members = []\n",
    "        self.score = 0\n",
    "\n",
    "    def append_members(self, *members):\n",
    "        self.members.extend(members)\n",
    "        for member in members:\n",
    "            self.score += member.level\n",
    "        print(self.score)"
   ],
   "metadata": {
    "collapsed": false,
    "pycharm": {
     "name": "#%%\n"
    }
   }
  },
  {
   "cell_type": "code",
   "execution_count": 16,
   "outputs": [],
   "source": [
    "class Competition:\n",
    "\n",
    "    def __init__(self, teams):\n",
    "        self.teams = teams\n",
    "        self.scores = {}\n",
    "\n",
    "    def count_score(self):\n",
    "        all_teams = []\n",
    "        team_level = []\n",
    "        for team in self.teams:\n",
    "            all_teams.append(team.name)\n",
    "            team_level.append(team.score)\n",
    "\n",
    "        self.scores['Teams'] = all_teams\n",
    "        self.scores['Levels'] = team_level\n",
    "\n",
    "\n",
    "\n",
    "    def results(self):\n",
    "\n",
    "        data = pd.DataFrame(self.scores)\n",
    "        data.plot(kind='bar', x=\"Teams\", y=\"Levels\")\n",
    "        plt.title('Results of competition', fontsize=20)\n",
    "        plt.show()\n",
    "        return data.head()\n",
    "\n",
    "\n"
   ],
   "metadata": {
    "collapsed": false,
    "pycharm": {
     "name": "#%%\n"
    }
   }
  },
  {
   "cell_type": "code",
   "execution_count": 17,
   "outputs": [
    {
     "name": "stdout",
     "output_type": "stream",
     "text": [
      "Lucy , 9\n"
     ]
    }
   ],
   "source": [
    "athlete_1 = Athletes('Lucy', np.random.randint(1, 10))"
   ],
   "metadata": {
    "collapsed": false,
    "pycharm": {
     "name": "#%%\n"
    }
   }
  },
  {
   "cell_type": "code",
   "execution_count": 18,
   "outputs": [
    {
     "name": "stdout",
     "output_type": "stream",
     "text": [
      "Mey , 3\n"
     ]
    }
   ],
   "source": [
    "athlete_2 = Athletes('Mey', np.random.randint(1, 10))"
   ],
   "metadata": {
    "collapsed": false,
    "pycharm": {
     "name": "#%%\n"
    }
   }
  },
  {
   "cell_type": "code",
   "execution_count": 19,
   "outputs": [
    {
     "name": "stdout",
     "output_type": "stream",
     "text": [
      "Rey , 9\n"
     ]
    }
   ],
   "source": [
    "athlete_3 = Athletes('Rey', np.random.randint(1, 10))"
   ],
   "metadata": {
    "collapsed": false,
    "pycharm": {
     "name": "#%%\n"
    }
   }
  },
  {
   "cell_type": "code",
   "execution_count": 20,
   "outputs": [
    {
     "name": "stdout",
     "output_type": "stream",
     "text": [
      "Bob , 2\n"
     ]
    }
   ],
   "source": [
    "athlete_4 = Athletes('Bob', np.random.randint(1, 10))"
   ],
   "metadata": {
    "collapsed": false,
    "pycharm": {
     "name": "#%%\n"
    }
   }
  },
  {
   "cell_type": "code",
   "execution_count": 62,
   "outputs": [],
   "source": [
    "team_1 = Team('Flash')"
   ],
   "metadata": {
    "collapsed": false,
    "pycharm": {
     "name": "#%%\n"
    }
   }
  },
  {
   "cell_type": "code",
   "execution_count": 63,
   "outputs": [],
   "source": [
    "team_2 = Team('Star')"
   ],
   "metadata": {
    "collapsed": false,
    "pycharm": {
     "name": "#%%\n"
    }
   }
  },
  {
   "cell_type": "code",
   "execution_count": 66,
   "outputs": [
    {
     "name": "stdout",
     "output_type": "stream",
     "text": [
      "12\n"
     ]
    }
   ],
   "source": [
    "team_1.append_members(athlete_1, athlete_2)"
   ],
   "metadata": {
    "collapsed": false,
    "pycharm": {
     "name": "#%%\n"
    }
   }
  },
  {
   "cell_type": "code",
   "execution_count": 67,
   "outputs": [
    {
     "name": "stdout",
     "output_type": "stream",
     "text": [
      "22\n"
     ]
    }
   ],
   "source": [
    "team_2.append_members(athlete_3, athlete_4)"
   ],
   "metadata": {
    "collapsed": false,
    "pycharm": {
     "name": "#%%\n"
    }
   }
  },
  {
   "cell_type": "code",
   "execution_count": 68,
   "outputs": [],
   "source": [
    "competition_1 = Competition([team_1, team_2])"
   ],
   "metadata": {
    "collapsed": false,
    "pycharm": {
     "name": "#%%\n"
    }
   }
  },
  {
   "cell_type": "code",
   "execution_count": 69,
   "outputs": [],
   "source": [
    "competition_1.count_score()"
   ],
   "metadata": {
    "collapsed": false,
    "pycharm": {
     "name": "#%%\n"
    }
   }
  },
  {
   "cell_type": "code",
   "execution_count": 70,
   "outputs": [
    {
     "data": {
      "text/plain": "<Figure size 640x480 with 1 Axes>",
      "image/png": "[encoded data removed]"
     },
     "metadata": {},
     "output_type": "display_data"
    },
    {
     "data": {
      "text/plain": "   Teams  Levels\n0  Flash      12\n1   Star      22",
      "text/html": "<div>\n<style scoped>\n    .dataframe tbody tr th:only-of-type {\n        vertical-align: middle;\n    }\n\n    .dataframe tbody tr th {\n        vertical-align: top;\n    }\n\n    .dataframe thead th {\n        text-align: right;\n    }\n</style>\n<table border=\"1\" class=\"dataframe\">\n  <thead>\n    <tr style=\"text-align: right;\">\n      <th></th>\n      <th>Teams</th>\n      <th>Levels</th>\n    </tr>\n  </thead>\n  <tbody>\n    <tr>\n      <th>0</th>\n      <td>Flash</td>\n      <td>12</td>\n    </tr>\n    <tr>\n      <th>1</th>\n      <td>Star</td>\n      <td>22</td>\n    </tr>\n  </tbody>\n</table>\n</div>"
     },
     "execution_count": 70,
     "metadata": {},
     "output_type": "execute_result"
    }
   ],
   "source": [
    "competition_1.results()"
   ],
   "metadata": {
    "collapsed": false,
    "pycharm": {
     "name": "#%%\n"
    }
   }
  },
  {
   "cell_type": "code",
   "execution_count": null,
   "outputs": [],
   "source": [],
   "metadata": {
    "collapsed": false,
    "pycharm": {
     "name": "#%%\n"
    }
   }
  }
 ],
 "metadata": {
  "kernelspec": {
   "display_name": "Python 3",
   "language": "python",
   "name": "python3"
  },
  "language_info": {
   "codemirror_mode": {
    "name": "ipython",
    "version": 2
   },
   "file_extension": ".py",
   "mimetype": "text/x-python",
   "name": "python",
   "nbconvert_exporter": "python",
   "pygments_lexer": "ipython2",
   "version": "2.7.6"
  }
 },
 "nbformat": 4,
 "nbformat_minor": 0
}