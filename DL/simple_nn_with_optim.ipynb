{
 "cells": [
  {
   "cell_type": "markdown",
   "source": [
    "Hand-written implementation of backward, forward and optimizers"
   ],
   "metadata": {
    "collapsed": false,
    "pycharm": {
     "name": "#%% md\n"
    }
   }
  },
  {
   "cell_type": "code",
   "execution_count": 5,
   "outputs": [],
   "source": [
    "import torch\n",
    "import torch.nn as nn\n",
    "from math import *"
   ],
   "metadata": {
    "collapsed": false,
    "pycharm": {
     "name": "#%%\n"
    }
   }
  },
  {
   "cell_type": "markdown",
   "source": [
    "# Forward and backward"
   ],
   "metadata": {
    "collapsed": false,
    "pycharm": {
     "name": "#%% md\n"
    }
   }
  },
  {
   "cell_type": "code",
   "execution_count": 30,
   "outputs": [],
   "source": [
    "class MyModele (nn.Module):\n",
    "    def __init__(self, tensor):\n",
    "        self.__init__()\n",
    "        self.param = nn.Parameter(tensor, requires_grad=False)\n",
    "\n",
    "    def forward(self, x):\n",
    "        return x * self.param\n",
    "\n",
    "    def backward(self, grad):\n",
    "        grad = 2 * grad - 7"
   ],
   "metadata": {
    "collapsed": false,
    "pycharm": {
     "name": "#%%\n"
    }
   }
  },
  {
   "cell_type": "markdown",
   "source": [
    "# Optimizers: Adagrad and Adam"
   ],
   "metadata": {
    "collapsed": false,
    "pycharm": {
     "name": "#%% md\n"
    }
   }
  },
  {
   "cell_type": "code",
   "execution_count": 41,
   "outputs": [],
   "source": [
    "class Adagrad:\n",
    "    def __init__(self, model_weight, lr: float=0.001):\n",
    "        self.lr = lr\n",
    "        self.weight = model_weight\n",
    "        self.accumulated = 0\n",
    "\n",
    "    def step(self, grad):\n",
    "        self.accumulated = self.accumulated + grad ** 2\n",
    "        adapt_lr = self.lr/(sqrt(self.accumulated) + 10**(-16))\n",
    "        self.weight = self.weight - adapt_lr * grad\n"
   ],
   "metadata": {
    "collapsed": false,
    "pycharm": {
     "name": "#%%\n"
    }
   }
  },
  {
   "cell_type": "code",
   "execution_count": 79,
   "outputs": [],
   "source": [
    "class Adam:\n",
    "    def __init__(self, model_weight, lr: float=0.001, beta_1: float=0.9, beta_2: float=0.999):\n",
    "        self.lr = lr\n",
    "        self.beta_1 = beta_1\n",
    "        self.beta_2 = beta_2\n",
    "        self.weight = model_weight\n",
    "        self.velocity = torch.zeros_like(model_weight)\n",
    "        self.accumulated = 0\n",
    "\n",
    "    def step(self, grad):\n",
    "        self.velocity = self.beta_1 * self.velocity + (1 - self.beta_1) * grad\n",
    "        self.accumulated = self.beta_2 * self.accumulated + (1 - self.beta_2) * grad ** 2\n",
    "        adapt_lr = self.lr/sqrt(self.accumulated)\n",
    "        self.weight = self.weight - adapt_lr * self.velocity"
   ],
   "metadata": {
    "collapsed": false,
    "pycharm": {
     "name": "#%%\n"
    }
   }
  },
  {
   "cell_type": "markdown",
   "source": [
    "# Solution of function"
   ],
   "metadata": {
    "collapsed": false,
    "pycharm": {
     "name": "#%% md\n"
    }
   }
  },
  {
   "cell_type": "markdown",
   "source": [
    "Function used $$ x^2 - 7x + 6 $$"
   ],
   "metadata": {
    "collapsed": false,
    "pycharm": {
     "name": "#%% md\n"
    }
   }
  },
  {
   "cell_type": "code",
   "execution_count": 66,
   "outputs": [],
   "source": [
    "grads = lambda x: 2*(x ** 2 - 7 * x + 6)*(2 * x - 7)\n",
    "func = lambda x: (x ** 2 - 7 * x + 6)**2"
   ],
   "metadata": {
    "collapsed": false,
    "pycharm": {
     "name": "#%%\n"
    }
   }
  },
  {
   "cell_type": "code",
   "execution_count": 83,
   "outputs": [],
   "source": [
    "def solve(x):\n",
    "    x = torch.tensor(x).float()\n",
    "    grad = grads(x)\n",
    "    optim = Adagrad(x, 1)\n",
    "    prew = optim.weight\n",
    "    optim.step(grad)\n",
    "    grad = grads(optim.weight)\n",
    "    while abs(func(prew) - func(optim.weight)) >= 0.001:\n",
    "        prew = optim.weight\n",
    "        optim.step(grad)\n",
    "        grad = grads(optim.weight)\n",
    "    return optim.weight"
   ],
   "metadata": {
    "collapsed": false,
    "pycharm": {
     "name": "#%%\n"
    }
   }
  },
  {
   "cell_type": "code",
   "execution_count": 85,
   "outputs": [
    {
     "name": "stdout",
     "output_type": "stream",
     "text": [
      "First root: 6.0\n",
      "Second root: 0.96306723\n"
     ]
    }
   ],
   "source": [
    "print('First root:', solve(5).numpy())\n",
    "print('Second root:', solve(-5).numpy())"
   ],
   "metadata": {
    "collapsed": false,
    "pycharm": {
     "name": "#%%\n"
    }
   }
  }
 ],
 "metadata": {
  "kernelspec": {
   "display_name": "Python 3",
   "language": "python",
   "name": "python3"
  },
  "language_info": {
   "codemirror_mode": {
    "name": "ipython",
    "version": 2
   },
   "file_extension": ".py",
   "mimetype": "text/x-python",
   "name": "python",
   "nbconvert_exporter": "python",
   "pygments_lexer": "ipython2",
   "version": "2.7.6"
  }
 },
 "nbformat": 4,
 "nbformat_minor": 0
}